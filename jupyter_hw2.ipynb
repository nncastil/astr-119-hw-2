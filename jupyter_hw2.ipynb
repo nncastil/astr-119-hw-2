{
 "cells": [
  {
   "cell_type": "code",
   "execution_count": null,
   "metadata": {},
   "outputs": [],
   "source": [
    "import numpy as np\n",
    "import matplotlib.pyplot as plt"
   ]
  },
  {
   "cell_type": "code",
   "execution_count": null,
   "metadata": {},
   "outputs": [],
   "source": [
    "x = np.arange(0,2*3.14)\n",
    "y = 5.5 * np.cos(2 * x) + 5.5\n",
    "plt.plot(x,y)\n",
    "plt.xlabel('time in ASTR 119')\n",
    "plt.ylabel('measures of awesomeness')\n",
    "plt.show()"
   ]
  },
  {
   "cell_type": "code",
   "execution_count": null,
   "metadata": {},
   "outputs": [],
   "source": [
    "x = np.arange(0,2*3.14)\n",
    "y = 0.02 * np.exp(x)\n",
    "plt.plot(x,y)\n",
    "plt.xlabel('time in ASTR 119')\n",
    "plt.ylabel('measures of awesomeness')\n",
    "plt.show()"
   ]
  },
  {
   "cell_type": "code",
   "execution_count": null,
   "metadata": {},
   "outputs": [],
   "source": [
    "x = np.arange(0,2*3.14)\n",
    "y = 0.25 * x^2 + 0.1*np.sin(10*x)\n",
    "plt.plot(x,y)\n",
    "plt.xlabel('time in ASTR 119')\n",
    "plt.ylabel('measures of awesomeness')\n",
    "plt.show()"
   ]
  },
  {
   "cell_type": "code",
   "execution_count": null,
   "metadata": {},
   "outputs": [],
   "source": []
  }
 ],
 "metadata": {
  "kernelspec": {
   "display_name": "Python 3",
   "language": "python",
   "name": "python3"
  },
  "language_info": {
   "codemirror_mode": {
    "name": "ipython",
    "version": 3
   },
   "file_extension": ".py",
   "mimetype": "text/x-python",
   "name": "python",
   "nbconvert_exporter": "python",
   "pygments_lexer": "ipython3",
   "version": "3.6.5"
  }
 },
 "nbformat": 4,
 "nbformat_minor": 2
}
