{
 "cells": [
  {
   "cell_type": "code",
   "execution_count": null,
   "metadata": {},
   "outputs": [],
   "source": [
    "%matplotlib inline\n",
    "import numpy as np\n",
    "import matplotlib.pyplot as plt"
   ]
  },
  {
   "cell_type": "code",
   "execution_count": null,
   "metadata": {},
   "outputs": [],
   "source": [
    "x = np.linspace(0,2*np.pi,1000)\n",
    "print(x[-1],2*np.pi)\n",
    "\n",
    "y = 5.5 * np.cos(2 * x) + 5.5\n",
    "z = 0.02 * np.exp(x)\n",
    "w = 0.25 * x * np.exp(2) + 0.1 * np.sin(10 * x)"
   ]
  },
  {
   "cell_type": "code",
   "execution_count": null,
   "metadata": {},
   "outputs": [],
   "source": [
    "#subplots\n",
    "f, axarr = plt.subplots(1, 3)    #1 row 3 columns\n",
    "\n",
    "#1\n",
    "axarr[0].plot(x,y)\n",
    "axarr[0].set_xlabel('time in ASTR 119')\n",
    "axarr[0].set_ylabel('material learned')\n",
    "\n",
    "#2\n",
    "axarr[1].plot(x, z)\n",
    "axarr[1].set_xlabel('time in ASTR 119')\n",
    "axarr[1].set_ylabel('time spent studying')\n",
    "\n",
    "#3\n",
    "axarr[2].plot(x, w)\n",
    "axarr[2].set_xlabel('time in ASTR 119')\n",
    "axarr[2].set_ylabel('measures of awesomeness')\n",
    "\n",
    "#adjustments\n",
    "f.subplots_adjust(wspace=2)\n",
    "\n",
    "#ratio\n",
    "axarr[0].set_aspect('equal')\n",
    "axarr[1].set_aspect('equal')\n",
    "axarr[2].set_aspect('equal')"
   ]
  },
  {
   "cell_type": "code",
   "execution_count": null,
   "metadata": {},
   "outputs": [],
   "source": [
    "#one graph\n",
    "fig = plt.figure(figsize=(6,6))\n",
    "\n",
    "#plots\n",
    "plt.plot(x, y, label='material learned')\n",
    "plt.plot(x, z, label='time spent studying')\n",
    "plt.plot(x, w, label='measures of awesomeness')\n",
    "\n",
    "#labels\n",
    "plt.xlabel('time in ASTR 119')\n",
    "plt.ylabel('ASTR 119 experience')\n",
    "plt.xlim([0,2*np.pi])\n",
    "plt.ylim([-1,10])\n",
    "plt.legend(loc=1,framealpha=0.70)"
   ]
  },
  {
   "cell_type": "code",
   "execution_count": null,
   "metadata": {},
   "outputs": [],
   "source": []
  }
 ],
 "metadata": {
  "kernelspec": {
   "display_name": "Python 3",
   "language": "python",
   "name": "python3"
  },
  "language_info": {
   "codemirror_mode": {
    "name": "ipython",
    "version": 3
   },
   "file_extension": ".py",
   "mimetype": "text/x-python",
   "name": "python",
   "nbconvert_exporter": "python",
   "pygments_lexer": "ipython3",
   "version": "3.6.5"
  }
 },
 "nbformat": 4,
 "nbformat_minor": 2
}
